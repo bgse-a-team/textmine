{
 "cells": [
  {
   "cell_type": "markdown",
   "metadata": {},
   "source": [
    "# Homework 1"
   ]
  },
  {
   "cell_type": "markdown",
   "metadata": {},
   "source": [
    "## Data processing"
   ]
  },
  {
   "cell_type": "code",
   "execution_count": 2,
   "metadata": {
    "collapsed": false
   },
   "outputs": [],
   "source": [
    "# Import needed packages\n",
    "\n",
    "import numpy as np\n",
    "import pandas as pd\n",
    "import nltk\n",
    "import re\n",
    "#nltk.download()"
   ]
  },
  {
   "cell_type": "code",
   "execution_count": 3,
   "metadata": {
    "collapsed": false
   },
   "outputs": [
    {
     "name": "stdout",
     "output_type": "stream",
     "text": [
      "(23155, 3)\n"
     ]
    },
    {
     "data": {
      "text/html": [
       "<div>\n",
       "<table border=\"1\" class=\"dataframe\">\n",
       "  <thead>\n",
       "    <tr style=\"text-align: right;\">\n",
       "      <th></th>\n",
       "      <th>president</th>\n",
       "      <th>speech</th>\n",
       "      <th>year</th>\n",
       "    </tr>\n",
       "  </thead>\n",
       "  <tbody>\n",
       "    <tr>\n",
       "      <th>0</th>\n",
       "      <td>Washington</td>\n",
       "      <td>Fellow-Citizens of the Senate and House of Rep...</td>\n",
       "      <td>1790</td>\n",
       "    </tr>\n",
       "    <tr>\n",
       "      <th>1</th>\n",
       "      <td>Washington</td>\n",
       "      <td>I embrace with great satisfaction the opportun...</td>\n",
       "      <td>1790</td>\n",
       "    </tr>\n",
       "    <tr>\n",
       "      <th>2</th>\n",
       "      <td>Washington</td>\n",
       "      <td>In resuming your consultations for the general...</td>\n",
       "      <td>1790</td>\n",
       "    </tr>\n",
       "    <tr>\n",
       "      <th>3</th>\n",
       "      <td>Washington</td>\n",
       "      <td>Among the many interesting objects which will ...</td>\n",
       "      <td>1790</td>\n",
       "    </tr>\n",
       "    <tr>\n",
       "      <th>4</th>\n",
       "      <td>Washington</td>\n",
       "      <td>A free people ought not only to be armed, but ...</td>\n",
       "      <td>1790</td>\n",
       "    </tr>\n",
       "  </tbody>\n",
       "</table>\n",
       "</div>"
      ],
      "text/plain": [
       "    president                                             speech  year\n",
       "0  Washington  Fellow-Citizens of the Senate and House of Rep...  1790\n",
       "1  Washington  I embrace with great satisfaction the opportun...  1790\n",
       "2  Washington  In resuming your consultations for the general...  1790\n",
       "3  Washington  Among the many interesting objects which will ...  1790\n",
       "4  Washington  A free people ought not only to be armed, but ...  1790"
      ]
     },
     "execution_count": 3,
     "metadata": {},
     "output_type": "execute_result"
    }
   ],
   "source": [
    "# Read data set\n",
    "data = pd.read_table(\"speech_data_extend.txt\")\n",
    "print(data.shape)\n",
    "data.head()"
   ]
  },
  {
   "cell_type": "code",
   "execution_count": 4,
   "metadata": {
    "collapsed": false
   },
   "outputs": [],
   "source": [
    "# Remove non-alphabetic characters and tokenize\n",
    "regex = re.compile('[^a-z]')\n",
    "docs_list = [doc.lower() for doc in list(data.loc[:,'speech'])]\n",
    "clean_docs = [nltk.word_tokenize(regex.sub(' ', ''.join(doc))) for doc in docs_list]"
   ]
  },
  {
   "cell_type": "code",
   "execution_count": 5,
   "metadata": {
    "collapsed": false
   },
   "outputs": [
    {
     "name": "stdout",
     "output_type": "stream",
     "text": [
      "[['fellow', 'citizens', 'of', 'the', 'senate', 'and', 'house', 'of', 'representatives']]\n"
     ]
    }
   ],
   "source": [
    "#Tokenizing and non-alphabetic character removal done\n",
    "print(clean_docs[:1])"
   ]
  },
  {
   "cell_type": "markdown",
   "metadata": {},
   "source": [
    "## Exercise 1"
   ]
  },
  {
   "cell_type": "code",
   "execution_count": 6,
   "metadata": {
    "collapsed": false
   },
   "outputs": [
    {
     "name": "stdout",
     "output_type": "stream",
     "text": [
      "[['fellow', 'citizen', 'senat', 'hous', 'repres'], ['embrac', 'great', 'satisfact', 'opportun', 'present', 'congratul', 'present', 'favor', 'prospect', 'public', 'affair', 'recent', 'access', 'import', 'state', 'north', 'carolina', 'constitut', 'unit', 'state', 'offici', 'inform', 'receiv', 'rise', 'credit', 'respect', 'countri', 'gener', 'increas', 'good', 'toward', 'govern', 'union', 'concord', 'peac', 'plenti', 'bless', 'circumst', 'auspici', 'emin', 'degre', 'nation', 'prosper']]\n"
     ]
    }
   ],
   "source": [
    "# Remove stop words\n",
    "\n",
    "from nltk.corpus import stopwords\n",
    "stop_words = set(stopwords.words('english'))\n",
    "stemmer = nltk.stem.porter.PorterStemmer()\n",
    "clean_docs_stops = []\n",
    "for doc in clean_docs:\n",
    "    doc_wo_stops = [stemmer.stem(word) for word in doc if not word in stop_words]\n",
    "    clean_docs_stops.append(doc_wo_stops)\n",
    "print(clean_docs_stops[:2])"
   ]
  },
  {
   "cell_type": "raw",
   "metadata": {
    "collapsed": false
   },
   "source": [
    "from sklearn.feature_extraction.text import TfidfVectorizer\n",
    "\n",
    "def stem_tokens(tokens, stemmer):\n",
    "    stemmed = []\n",
    "    for item in tokens:\n",
    "        stemmed.append(stemmer.stem(item))\n",
    "    return stemmed\n",
    "\n",
    "def tokenize(text):\n",
    "    tokens = nltk.word_tokenize(text)\n",
    "    stems = stem_tokens(tokens, stemmer)\n",
    "    return stems\n",
    "\n",
    "tfidf = TfidfVectorizer(tokenizer=tokenize, stop_words='english')\n",
    "tfs = tfidf.fit_transform(clean_docs)\n",
    "\n",
    "feature_names = tfidf.get_feature_names()"
   ]
  },
  {
   "cell_type": "code",
   "execution_count": 7,
   "metadata": {
    "collapsed": false
   },
   "outputs": [],
   "source": [
    "# Get all unique stems/terms\n",
    "unique = set(word for doc in clean_docs_stops for word in doc)"
   ]
  },
  {
   "cell_type": "raw",
   "metadata": {
    "collapsed": false
   },
   "source": [
    "A = [[1,2,3,4],[5,6],[7,8],[9,10]]\n",
    "B = [item for sublist in A for item in sublist]\n",
    "print(B)"
   ]
  },
  {
   "cell_type": "code",
   "execution_count": 7,
   "metadata": {
    "collapsed": true
   },
   "outputs": [],
   "source": [
    "wordcount_by_doc = [dict.fromkeys(list(unique),0) for i in range(len(clean_docs_stops))]\n",
    "for index,doc in enumerate(clean_docs_stops):\n",
    "    for word in doc:\n",
    "        if word in unique:\n",
    "            wordcount_by_doc[index][word] = wordcount_by_doc[index][word] + 1"
   ]
  },
  {
   "cell_type": "code",
   "execution_count": 8,
   "metadata": {
    "collapsed": false
   },
   "outputs": [
    {
     "name": "stdout",
     "output_type": "stream",
     "text": [
      "citizen 1\n",
      "repres 1\n",
      "fellow 1\n",
      "hous 1\n",
      "senat 1\n"
     ]
    }
   ],
   "source": [
    "for word,count in wordcount_by_doc[0].items():\n",
    "    if count!=0 :\n",
    "        print(word,count)"
   ]
  },
  {
   "cell_type": "code",
   "execution_count": 9,
   "metadata": {
    "collapsed": false
   },
   "outputs": [],
   "source": [
    "dt_matrix = pd.DataFrame(wordcount_by_doc)"
   ]
  },
  {
   "cell_type": "code",
   "execution_count": 41,
   "metadata": {
    "collapsed": false
   },
   "outputs": [
    {
     "name": "stdout",
     "output_type": "stream",
     "text": [
      "5\n",
      "13550\n"
     ]
    },
    {
     "data": {
      "text/plain": [
       "0"
      ]
     },
     "execution_count": 41,
     "metadata": {},
     "output_type": "execute_result"
    }
   ],
   "source": [
    "test = dt_matrix.head()\n",
    "print(test.shape[0])\n",
    "print(test.shape[1])\n",
    "test.iloc[0,0]"
   ]
  },
  {
   "cell_type": "code",
   "execution_count": 11,
   "metadata": {
    "collapsed": false
   },
   "outputs": [],
   "source": [
    "# Get corpus level tf-idf scores of each term\n",
    "\n",
    "# calculate tf_v\n",
    "\n",
    "tf_v = 1 + np.log(dt_matrix.sum(axis = 0))\n",
    "\n",
    "# calculate df_v - find number of non-zero rows for each column\n",
    "\n",
    "df_v = dt_matrix.astype(bool).sum(axis=0)\n",
    "\n",
    "idf_v = np.log(dt_matrix.shape[0]/df_v)\n",
    "\n",
    "# calculate tf-idf\n",
    "\n",
    "tf_idf_v = tf_v * idf_v"
   ]
  },
  {
   "cell_type": "code",
   "execution_count": 14,
   "metadata": {
    "collapsed": false,
    "scrolled": true
   },
   "outputs": [
    {
     "data": {
      "text/plain": [
       "wool       35.215236\n",
       "cabl       35.124009\n",
       "circuit    34.474063\n",
       "acr        34.403554\n",
       "texa       34.232973\n",
       "dtype: float64"
      ]
     },
     "execution_count": 14,
     "metadata": {},
     "output_type": "execute_result"
    }
   ],
   "source": [
    "tf_idf_v.sort_values(ascending=False).head()"
   ]
  },
  {
   "cell_type": "code",
   "execution_count": 15,
   "metadata": {
    "collapsed": true
   },
   "outputs": [],
   "source": [
    "def get_tf(x):\n",
    "    tf = 0\n",
    "    if (x!=0):\n",
    "        tf = 1 + np.log(x)\n",
    "    return(tf)"
   ]
  },
  {
   "cell_type": "code",
   "execution_count": 16,
   "metadata": {
    "collapsed": false
   },
   "outputs": [],
   "source": [
    "# calculate the tf_dv matrix\n",
    "\n",
    "tf_dv = dt_matrix.applymap(get_tf)\n",
    "\n",
    "# multiply each row of tfdv with idf_v\n",
    "\n",
    "func = lambda x : np.asarray(x) * np.asarray(idf_v)\n",
    "tf_idf_dv = tf_dv.apply(func, axis = 1)"
   ]
  },
  {
   "cell_type": "code",
   "execution_count": 18,
   "metadata": {
    "collapsed": true
   },
   "outputs": [],
   "source": [
    "# Save dt_matrix and tf-idf to avoid computation later\n",
    "dt_matrix.to_pickle('dtmatrix.pkl')\n",
    "tf_idf_v.to_pickle('tfidf_v.pkl')\n",
    "tf_idf_dv.to_pickle('tfidf_dv.pkl')"
   ]
  },
  {
   "cell_type": "markdown",
   "metadata": {},
   "source": [
    "## Exercise 2"
   ]
  },
  {
   "cell_type": "code",
   "execution_count": 8,
   "metadata": {
    "collapsed": true
   },
   "outputs": [],
   "source": [
    "dt_matrix = pd.read_pickle('dtmatrix.pkl')\n",
    "tf_idf_v = pd.read_pickle('tfidf_v.pkl')\n",
    "tf_idf_dv = pd.read_pickle('tfidf_dv.pkl')"
   ]
  },
  {
   "cell_type": "code",
   "execution_count": 9,
   "metadata": {
    "collapsed": false
   },
   "outputs": [
    {
     "data": {
      "text/html": [
       "<div>\n",
       "<table border=\"1\" class=\"dataframe\">\n",
       "  <thead>\n",
       "    <tr style=\"text-align: right;\">\n",
       "      <th></th>\n",
       "      <th>word</th>\n",
       "      <th>score</th>\n",
       "    </tr>\n",
       "  </thead>\n",
       "  <tbody>\n",
       "    <tr>\n",
       "      <th>0</th>\n",
       "      <td>abandon</td>\n",
       "      <td>-2</td>\n",
       "    </tr>\n",
       "    <tr>\n",
       "      <th>3</th>\n",
       "      <td>abduct</td>\n",
       "      <td>-2</td>\n",
       "    </tr>\n",
       "    <tr>\n",
       "      <th>6</th>\n",
       "      <td>abhor</td>\n",
       "      <td>-3</td>\n",
       "    </tr>\n",
       "    <tr>\n",
       "      <th>8</th>\n",
       "      <td>abhorr</td>\n",
       "      <td>-3</td>\n",
       "    </tr>\n",
       "    <tr>\n",
       "      <th>10</th>\n",
       "      <td>abil</td>\n",
       "      <td>2</td>\n",
       "    </tr>\n",
       "  </tbody>\n",
       "</table>\n",
       "</div>"
      ],
      "text/plain": [
       "       word  score\n",
       "0   abandon     -2\n",
       "3    abduct     -2\n",
       "6     abhor     -3\n",
       "8    abhorr     -3\n",
       "10     abil      2"
      ]
     },
     "execution_count": 9,
     "metadata": {},
     "output_type": "execute_result"
    }
   ],
   "source": [
    "# Read dictionary, stem and remove duplicates\n",
    "myd = pd.read_csv('dict.txt',sep='\\t',header=None)\n",
    "myd.columns = ['word', 'score']\n",
    "stemmer = nltk.stem.porter.PorterStemmer()\n",
    "myd['word'] = myd['word'].apply(stemmer.stem)\n",
    "myd = myd.drop_duplicates()\n",
    "myd.head()"
   ]
  },
  {
   "cell_type": "code",
   "execution_count": 10,
   "metadata": {
    "collapsed": false
   },
   "outputs": [
    {
     "name": "stderr",
     "output_type": "stream",
     "text": [
      "/home/lohia/cml/cml-venv/lib/python3.5/site-packages/pandas/core/indexing.py:561: SettingWithCopyWarning: \n",
      "A value is trying to be set on a copy of a slice from a DataFrame.\n",
      "Try using .loc[row_indexer,col_indexer] = value instead\n",
      "\n",
      "See the caveats in the documentation: http://pandas.pydata.org/pandas-docs/stable/indexing.html#indexing-view-versus-copy\n",
      "  self.obj[item_labels[indexer[info_axis]]] = value\n"
     ]
    }
   ],
   "source": [
    "# get terms which are in our dictionary\n",
    "words_in_dic = [word for word in unique if word in set(myd['word'])]\n",
    "# get s_d = sum of tf-idf*word_score for all documents\n",
    "tf_idf_dv_select = tf_idf_dv[words_in_dic]\n",
    "for i in range(tf_idf_dv_select.shape[1]):\n",
    "    tf_idf_dv_select.iloc[:,i] *= myd[myd['word'] == tf_idf_dv_select.columns[i]]['score'].values[0]"
   ]
  },
  {
   "cell_type": "code",
   "execution_count": 11,
   "metadata": {
    "collapsed": false,
    "scrolled": true
   },
   "outputs": [
    {
     "data": {
      "text/html": [
       "<div>\n",
       "<table border=\"1\" class=\"dataframe\">\n",
       "  <thead>\n",
       "    <tr style=\"text-align: right;\">\n",
       "      <th></th>\n",
       "      <th>score</th>\n",
       "      <th>meta_president</th>\n",
       "      <th>meta_year</th>\n",
       "    </tr>\n",
       "  </thead>\n",
       "  <tbody>\n",
       "    <tr>\n",
       "      <th>0</th>\n",
       "      <td>0.000000</td>\n",
       "      <td>Washington</td>\n",
       "      <td>1790</td>\n",
       "    </tr>\n",
       "    <tr>\n",
       "      <th>1</th>\n",
       "      <td>91.595616</td>\n",
       "      <td>Washington</td>\n",
       "      <td>1790</td>\n",
       "    </tr>\n",
       "    <tr>\n",
       "      <th>2</th>\n",
       "      <td>82.338856</td>\n",
       "      <td>Washington</td>\n",
       "      <td>1790</td>\n",
       "    </tr>\n",
       "    <tr>\n",
       "      <th>3</th>\n",
       "      <td>10.161844</td>\n",
       "      <td>Washington</td>\n",
       "      <td>1790</td>\n",
       "    </tr>\n",
       "    <tr>\n",
       "      <th>4</th>\n",
       "      <td>13.174980</td>\n",
       "      <td>Washington</td>\n",
       "      <td>1790</td>\n",
       "    </tr>\n",
       "  </tbody>\n",
       "</table>\n",
       "</div>"
      ],
      "text/plain": [
       "       score meta_president  meta_year\n",
       "0   0.000000     Washington       1790\n",
       "1  91.595616     Washington       1790\n",
       "2  82.338856     Washington       1790\n",
       "3  10.161844     Washington       1790\n",
       "4  13.174980     Washington       1790"
      ]
     },
     "execution_count": 11,
     "metadata": {},
     "output_type": "execute_result"
    }
   ],
   "source": [
    "# Sum all the rows of the matrix to get scores for each document\n",
    "tfidf_wt_results = pd.DataFrame(tf_idf_dv_select.sum(axis=1, numeric_only=True), columns = ['score'])\n",
    "tfidf_wt_results['meta_president'] = data['president']\n",
    "tfidf_wt_results['meta_year'] = data['year']\n",
    "tfidf_wt_results.head()"
   ]
  },
  {
   "cell_type": "code",
   "execution_count": 12,
   "metadata": {
    "collapsed": false
   },
   "outputs": [
    {
     "name": "stderr",
     "output_type": "stream",
     "text": [
      "/home/lohia/cml/cml-venv/lib/python3.5/site-packages/pandas/core/indexing.py:561: SettingWithCopyWarning: \n",
      "A value is trying to be set on a copy of a slice from a DataFrame.\n",
      "Try using .loc[row_indexer,col_indexer] = value instead\n",
      "\n",
      "See the caveats in the documentation: http://pandas.pydata.org/pandas-docs/stable/indexing.html#indexing-view-versus-copy\n",
      "  self.obj[item_labels[indexer[info_axis]]] = value\n"
     ]
    },
    {
     "data": {
      "text/html": [
       "<div>\n",
       "<table border=\"1\" class=\"dataframe\">\n",
       "  <thead>\n",
       "    <tr style=\"text-align: right;\">\n",
       "      <th></th>\n",
       "      <th>score</th>\n",
       "      <th>meta_president</th>\n",
       "      <th>meta_year</th>\n",
       "    </tr>\n",
       "  </thead>\n",
       "  <tbody>\n",
       "    <tr>\n",
       "      <th>0</th>\n",
       "      <td>0</td>\n",
       "      <td>Washington</td>\n",
       "      <td>1790</td>\n",
       "    </tr>\n",
       "    <tr>\n",
       "      <th>1</th>\n",
       "      <td>29</td>\n",
       "      <td>Washington</td>\n",
       "      <td>1790</td>\n",
       "    </tr>\n",
       "    <tr>\n",
       "      <th>2</th>\n",
       "      <td>21</td>\n",
       "      <td>Washington</td>\n",
       "      <td>1790</td>\n",
       "    </tr>\n",
       "    <tr>\n",
       "      <th>3</th>\n",
       "      <td>3</td>\n",
       "      <td>Washington</td>\n",
       "      <td>1790</td>\n",
       "    </tr>\n",
       "    <tr>\n",
       "      <th>4</th>\n",
       "      <td>4</td>\n",
       "      <td>Washington</td>\n",
       "      <td>1790</td>\n",
       "    </tr>\n",
       "  </tbody>\n",
       "</table>\n",
       "</div>"
      ],
      "text/plain": [
       "   score meta_president  meta_year\n",
       "0      0     Washington       1790\n",
       "1     29     Washington       1790\n",
       "2     21     Washington       1790\n",
       "3      3     Washington       1790\n",
       "4      4     Washington       1790"
      ]
     },
     "execution_count": 12,
     "metadata": {},
     "output_type": "execute_result"
    }
   ],
   "source": [
    "# Repeat the same thing for document term matrix\n",
    "\n",
    "dt_matrix_select = dt_matrix[words_in_dic]\n",
    "for i in range(dt_matrix_select.shape[1]):\n",
    "    dt_matrix_select.iloc[:,i] *= myd[myd['word'] == dt_matrix_select.columns[i]]['score'].values[0]\n",
    "\n",
    "# Sum all the rows of the matrix to get scores for each document\n",
    "dtmatrix_results = pd.DataFrame(dt_matrix_select.sum(axis=1, numeric_only=True), columns=['score'])\n",
    "dtmatrix_results['meta_president'] = data['president']\n",
    "dtmatrix_results['meta_year'] = data['year']\n",
    "dtmatrix_results.head()"
   ]
  },
  {
   "cell_type": "code",
   "execution_count": 13,
   "metadata": {
    "collapsed": true
   },
   "outputs": [],
   "source": [
    "import matplotlib.pyplot as plt\n",
    "% matplotlib inline\n",
    "plt.style.use('ggplot')"
   ]
  },
  {
   "cell_type": "code",
   "execution_count": 14,
   "metadata": {
    "collapsed": false
   },
   "outputs": [
    {
     "data": {
      "image/png": "[encoded data removed]",
      "text/plain": [
       "<matplotlib.figure.Figure at 0x7f059cd75630>"
      ]
     },
     "metadata": {},
     "output_type": "display_data"
    }
   ],
   "source": [
    "plt.figure(figsize=(15,5))\n",
    "plt.plot(dtmatrix_results['score'])\n",
    "plt.xlabel('Year')\n",
    "plt.ylabel('score')\n",
    "plt.show()"
   ]
  },
  {
   "cell_type": "code",
   "execution_count": 22,
   "metadata": {
    "collapsed": false
   },
   "outputs": [
    {
     "data": {
      "image/png": "[encoded data removed]",
      "text/plain": [
       "<matplotlib.figure.Figure at 0x7f059c16d550>"
      ]
     },
     "metadata": {},
     "output_type": "display_data"
    }
   ],
   "source": [
    "plt.figure(figsize=(15,5))\n",
    "plt.plot(tfidf_wt_results['score'])\n",
    "plt.xlabel('Year')\n",
    "plt.ylabel('score')\n",
    "plt.show()"
   ]
  },
  {
   "cell_type": "markdown",
   "metadata": {},
   "source": [
    "## Exercise 3"
   ]
  },
  {
   "cell_type": "code",
   "execution_count": null,
   "metadata": {
    "collapsed": true
   },
   "outputs": [],
   "source": []
  }
 ],
 "metadata": {
  "anaconda-cloud": {},
  "kernelspec": {
   "display_name": "Python 3",
   "language": "python",
   "name": "python3"
  },
  "language_info": {
   "codemirror_mode": {
    "name": "ipython",
    "version": 3
   },
   "file_extension": ".py",
   "mimetype": "text/x-python",
   "name": "python",
   "nbconvert_exporter": "python",
   "pygments_lexer": "ipython3",
   "version": "3.5.2"
  }
 },
 "nbformat": 4,
 "nbformat_minor": 1
}
