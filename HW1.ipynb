{
 "cells": [
  {
   "cell_type": "markdown",
   "metadata": {},
   "source": [
    "# Homework 1"
   ]
  },
  {
   "cell_type": "markdown",
   "metadata": {},
   "source": [
    "## Data processing"
   ]
  },
  {
   "cell_type": "code",
   "execution_count": 3,
   "metadata": {
    "collapsed": false
   },
   "outputs": [],
   "source": [
    "# Import needed packages\n",
    "\n",
    "import numpy as np\n",
    "import pandas as pd\n",
    "import nltk\n",
    "import re\n",
    "#nltk.download()"
   ]
  },
  {
   "cell_type": "code",
   "execution_count": 32,
   "metadata": {
    "collapsed": false
   },
   "outputs": [
    {
     "name": "stdout",
     "output_type": "stream",
     "text": [
      "(23155, 3)\n"
     ]
    },
    {
     "data": {
      "text/html": [
       "<div>\n",
       "<table border=\"1\" class=\"dataframe\">\n",
       "  <thead>\n",
       "    <tr style=\"text-align: right;\">\n",
       "      <th></th>\n",
       "      <th>president</th>\n",
       "      <th>speech</th>\n",
       "      <th>year</th>\n",
       "    </tr>\n",
       "  </thead>\n",
       "  <tbody>\n",
       "    <tr>\n",
       "      <th>0</th>\n",
       "      <td>Washington</td>\n",
       "      <td>Fellow-Citizens of the Senate and House of Rep...</td>\n",
       "      <td>1790</td>\n",
       "    </tr>\n",
       "    <tr>\n",
       "      <th>1</th>\n",
       "      <td>Washington</td>\n",
       "      <td>I embrace with great satisfaction the opportun...</td>\n",
       "      <td>1790</td>\n",
       "    </tr>\n",
       "    <tr>\n",
       "      <th>2</th>\n",
       "      <td>Washington</td>\n",
       "      <td>In resuming your consultations for the general...</td>\n",
       "      <td>1790</td>\n",
       "    </tr>\n",
       "    <tr>\n",
       "      <th>3</th>\n",
       "      <td>Washington</td>\n",
       "      <td>Among the many interesting objects which will ...</td>\n",
       "      <td>1790</td>\n",
       "    </tr>\n",
       "    <tr>\n",
       "      <th>4</th>\n",
       "      <td>Washington</td>\n",
       "      <td>A free people ought not only to be armed, but ...</td>\n",
       "      <td>1790</td>\n",
       "    </tr>\n",
       "  </tbody>\n",
       "</table>\n",
       "</div>"
      ],
      "text/plain": [
       "    president                                             speech  year\n",
       "0  Washington  Fellow-Citizens of the Senate and House of Rep...  1790\n",
       "1  Washington  I embrace with great satisfaction the opportun...  1790\n",
       "2  Washington  In resuming your consultations for the general...  1790\n",
       "3  Washington  Among the many interesting objects which will ...  1790\n",
       "4  Washington  A free people ought not only to be armed, but ...  1790"
      ]
     },
     "execution_count": 32,
     "metadata": {},
     "output_type": "execute_result"
    }
   ],
   "source": [
    "# Read data set\n",
    "data = pd.read_table(\"speech_data_extend.txt\")\n",
    "print(data.shape)\n",
    "data.head()"
   ]
  },
  {
   "cell_type": "code",
   "execution_count": 3,
   "metadata": {
    "collapsed": false
   },
   "outputs": [],
   "source": [
    "# Remove non-alphabetic characters and tokenize\n",
    "regex = re.compile('[^a-z]')\n",
    "docs_list = [doc.lower() for doc in list(data.loc[:,'speech'])]\n",
    "clean_docs = [nltk.word_tokenize(regex.sub(' ', ''.join(doc))) for doc in docs_list]"
   ]
  },
  {
   "cell_type": "code",
   "execution_count": 4,
   "metadata": {
    "collapsed": false
   },
   "outputs": [
    {
     "name": "stdout",
     "output_type": "stream",
     "text": [
      "[['fellow', 'citizens', 'of', 'the', 'senate', 'and', 'house', 'of', 'representatives'], ['i', 'embrace', 'with', 'great', 'satisfaction', 'the', 'opportunity', 'which', 'now', 'presents', 'itself', 'of', 'congratulating', 'you', 'on', 'the', 'present', 'favorable', 'prospects', 'of', 'our', 'public', 'affairs', 'the', 'recent', 'accession', 'of', 'the', 'important', 'state', 'of', 'north', 'carolina', 'to', 'the', 'constitution', 'of', 'the', 'united', 'states', 'of', 'which', 'official', 'information', 'has', 'been', 'received', 'the', 'rising', 'credit', 'and', 'respectability', 'of', 'our', 'country', 'the', 'general', 'and', 'increasing', 'good', 'will', 'toward', 'the', 'government', 'of', 'the', 'union', 'and', 'the', 'concord', 'peace', 'and', 'plenty', 'with', 'which', 'we', 'are', 'blessed', 'are', 'circumstances', 'auspicious', 'in', 'an', 'eminent', 'degree', 'to', 'our', 'national', 'prosperity'], ['in', 'resuming', 'your', 'consultations', 'for', 'the', 'general', 'good', 'you', 'can', 'not', 'but', 'derive', 'encouragement', 'from', 'the', 'reflection', 'that', 'the', 'measures', 'of', 'the', 'last', 'session', 'have', 'been', 'as', 'satisfactory', 'to', 'your', 'constituents', 'as', 'the', 'novelty', 'and', 'difficulty', 'of', 'the', 'work', 'allowed', 'you', 'to', 'hope', 'still', 'further', 'to', 'realize', 'their', 'expectations', 'and', 'to', 'secure', 'the', 'blessings', 'which', 'a', 'gracious', 'providence', 'has', 'placed', 'within', 'our', 'reach', 'will', 'in', 'the', 'course', 'of', 'the', 'present', 'important', 'session', 'call', 'for', 'the', 'cool', 'and', 'deliberate', 'exertion', 'of', 'your', 'patriotism', 'firmness', 'and', 'wisdom'], ['among', 'the', 'many', 'interesting', 'objects', 'which', 'will', 'engage', 'your', 'attention', 'that', 'of', 'providing', 'for', 'the', 'common', 'defense', 'will', 'merit', 'particular', 'regard', 'to', 'be', 'prepared', 'for', 'war', 'is', 'one', 'of', 'the', 'most', 'effectual', 'means', 'of', 'preserving', 'peace']]\n"
     ]
    }
   ],
   "source": [
    "#Tokenizing and non-alphabetic character removal done\n",
    "print(clean_docs[:4])"
   ]
  },
  {
   "cell_type": "markdown",
   "metadata": {},
   "source": [
    "## Exercise 1"
   ]
  },
  {
   "cell_type": "code",
   "execution_count": 5,
   "metadata": {
    "collapsed": false
   },
   "outputs": [
    {
     "name": "stdout",
     "output_type": "stream",
     "text": [
      "[['fellow', 'citizen', 'senat', 'hous', 'repres'], ['embrac', 'great', 'satisfact', 'opportun', 'present', 'congratul', 'present', 'favor', 'prospect', 'public', 'affair', 'recent', 'access', 'import', 'state', 'north', 'carolina', 'constitut', 'unit', 'state', 'offici', 'inform', 'receiv', 'rise', 'credit', 'respect', 'countri', 'gener', 'increas', 'good', 'toward', 'govern', 'union', 'concord', 'peac', 'plenti', 'bless', 'circumst', 'auspici', 'emin', 'degre', 'nation', 'prosper']]\n"
     ]
    }
   ],
   "source": [
    "# Remove stop words\n",
    "\n",
    "from nltk.corpus import stopwords\n",
    "stop_words = set(stopwords.words('english'))\n",
    "stemmer = nltk.stem.porter.PorterStemmer()\n",
    "clean_docs_stops = []\n",
    "for doc in clean_docs:\n",
    "    doc_wo_stops = [stemmer.stem(word) for word in doc if not word in stop_words]\n",
    "    clean_docs_stops.append(doc_wo_stops)\n",
    "print(clean_docs_stops[:2])"
   ]
  },
  {
   "cell_type": "raw",
   "metadata": {
    "collapsed": false
   },
   "source": [
    "from sklearn.feature_extraction.text import TfidfVectorizer\n",
    "\n",
    "def stem_tokens(tokens, stemmer):\n",
    "    stemmed = []\n",
    "    for item in tokens:\n",
    "        stemmed.append(stemmer.stem(item))\n",
    "    return stemmed\n",
    "\n",
    "def tokenize(text):\n",
    "    tokens = nltk.word_tokenize(text)\n",
    "    stems = stem_tokens(tokens, stemmer)\n",
    "    return stems\n",
    "\n",
    "tfidf = TfidfVectorizer(tokenizer=tokenize, stop_words='english')\n",
    "tfs = tfidf.fit_transform(clean_docs)\n",
    "\n",
    "feature_names = tfidf.get_feature_names()"
   ]
  },
  {
   "cell_type": "code",
   "execution_count": 6,
   "metadata": {
    "collapsed": false
   },
   "outputs": [],
   "source": [
    "# Get all unique stems/terms\n",
    "unique = set(word for doc in clean_docs_stops for word in doc)"
   ]
  },
  {
   "cell_type": "raw",
   "metadata": {
    "collapsed": false
   },
   "source": [
    "A = [[1,2,3,4],[5,6],[7,8],[9,10]]\n",
    "B = [item for sublist in A for item in sublist]\n",
    "print(B)"
   ]
  },
  {
   "cell_type": "code",
   "execution_count": 30,
   "metadata": {
    "collapsed": true
   },
   "outputs": [],
   "source": [
    "wordcount_by_doc = [dict.fromkeys(list(unique),0) for i in range(len(clean_docs_stops))]\n",
    "for index,doc in enumerate(clean_docs_stops):\n",
    "    for word in doc:\n",
    "        if word in unique:\n",
    "            wordcount_by_doc[index][word] = wordcount_by_doc[index][word] + 1"
   ]
  },
  {
   "cell_type": "code",
   "execution_count": 31,
   "metadata": {
    "collapsed": false
   },
   "outputs": [
    {
     "name": "stdout",
     "output_type": "stream",
     "text": [
      "hous 1\n",
      "fellow 1\n",
      "senat 1\n",
      "repres 1\n",
      "citizen 1\n"
     ]
    }
   ],
   "source": [
    "for word,count in wordcount_by_doc[0].items():\n",
    "    if count!=0 :\n",
    "        print(word,count)"
   ]
  },
  {
   "cell_type": "code",
   "execution_count": 32,
   "metadata": {
    "collapsed": false
   },
   "outputs": [],
   "source": [
    "dt_matrix = pd.DataFrame(wordcount_by_doc)"
   ]
  },
  {
   "cell_type": "code",
   "execution_count": 33,
   "metadata": {
    "collapsed": false
   },
   "outputs": [
    {
     "name": "stdout",
     "output_type": "stream",
     "text": [
      "5\n",
      "13550\n"
     ]
    },
    {
     "data": {
      "text/plain": [
       "0"
      ]
     },
     "execution_count": 33,
     "metadata": {},
     "output_type": "execute_result"
    }
   ],
   "source": [
    "test = dt_matrix.head()\n",
    "print(test.shape[0])\n",
    "print(test.shape[1])\n",
    "test.iloc[0,0]"
   ]
  },
  {
   "cell_type": "code",
   "execution_count": 34,
   "metadata": {
    "collapsed": false
   },
   "outputs": [],
   "source": [
    "# Get corpus level tf-idf scores of each term\n",
    "\n",
    "# calculate tf_v\n",
    "\n",
    "tf_v = 1 + np.log(dt_matrix.sum(axis = 0))\n",
    "\n",
    "# calculate df_v - find number of non-zero rows for each column\n",
    "\n",
    "df_v = dt_matrix.astype(bool).sum(axis=0)\n",
    "\n",
    "idf_v = np.log(dt_matrix.shape[0]/df_v)\n",
    "\n",
    "# calculate tf-idf\n",
    "\n",
    "tf_idf_v = tf_v * idf_v"
   ]
  },
  {
   "cell_type": "code",
   "execution_count": 35,
   "metadata": {
    "collapsed": false,
    "scrolled": true
   },
   "outputs": [
    {
     "data": {
      "text/plain": [
       "wool       35.215236\n",
       "cabl       35.124009\n",
       "circuit    34.474063\n",
       "acr        34.403554\n",
       "texa       34.232973\n",
       "dtype: float64"
      ]
     },
     "execution_count": 35,
     "metadata": {},
     "output_type": "execute_result"
    }
   ],
   "source": [
    "tf_idf_v.sort_values(ascending=False).head()"
   ]
  },
  {
   "cell_type": "code",
   "execution_count": 36,
   "metadata": {
    "collapsed": true
   },
   "outputs": [],
   "source": [
    "def get_tf(x):\n",
    "    tf = 0\n",
    "    if (x!=0):\n",
    "        tf = 1 + np.log(x)\n",
    "    return(tf)"
   ]
  },
  {
   "cell_type": "code",
   "execution_count": 37,
   "metadata": {
    "collapsed": false
   },
   "outputs": [],
   "source": [
    "# calculate the tf_dv matrix\n",
    "\n",
    "tf_dv = dt_matrix.applymap(get_tf)\n",
    "\n",
    "# multiply each row of tfdv with idf_v\n",
    "\n",
    "func = lambda x : np.asarray(x) * np.asarray(idf_v)\n",
    "tf_idf_dv = tf_dv.apply(func, axis = 1)"
   ]
  },
  {
   "cell_type": "code",
   "execution_count": 38,
   "metadata": {
    "collapsed": true
   },
   "outputs": [],
   "source": [
    "# Save dt_matrix and tf-idf to avoid computation later\n",
    "dt_matrix.to_pickle('dtmatrix.pkl')\n",
    "tf_idf_v.to_pickle('tfidf_v.pkl')\n",
    "tf_idf_dv.to_pickle('tfidf_dv.pkl')"
   ]
  },
  {
   "cell_type": "markdown",
   "metadata": {},
   "source": [
    "## Exercise 2"
   ]
  },
  {
   "cell_type": "code",
   "execution_count": 4,
   "metadata": {
    "collapsed": false
   },
   "outputs": [],
   "source": [
    "dt_matrix = pd.read_pickle('dtmatrix.pkl')\n",
    "tf_idf_v = pd.read_pickle('tfidf_v.pkl')\n",
    "tf_idf_dv = pd.read_pickle('tfidf_dv.pkl')"
   ]
  },
  {
   "cell_type": "code",
   "execution_count": 8,
   "metadata": {
    "collapsed": false
   },
   "outputs": [
    {
     "data": {
      "text/html": [
       "<div>\n",
       "<table border=\"1\" class=\"dataframe\">\n",
       "  <thead>\n",
       "    <tr style=\"text-align: right;\">\n",
       "      <th></th>\n",
       "      <th>word</th>\n",
       "      <th>score</th>\n",
       "    </tr>\n",
       "  </thead>\n",
       "  <tbody>\n",
       "    <tr>\n",
       "      <th>0</th>\n",
       "      <td>abandon</td>\n",
       "      <td>-2</td>\n",
       "    </tr>\n",
       "    <tr>\n",
       "      <th>3</th>\n",
       "      <td>abduct</td>\n",
       "      <td>-2</td>\n",
       "    </tr>\n",
       "    <tr>\n",
       "      <th>6</th>\n",
       "      <td>abhor</td>\n",
       "      <td>-3</td>\n",
       "    </tr>\n",
       "    <tr>\n",
       "      <th>8</th>\n",
       "      <td>abhorr</td>\n",
       "      <td>-3</td>\n",
       "    </tr>\n",
       "    <tr>\n",
       "      <th>10</th>\n",
       "      <td>abil</td>\n",
       "      <td>2</td>\n",
       "    </tr>\n",
       "  </tbody>\n",
       "</table>\n",
       "</div>"
      ],
      "text/plain": [
       "       word  score\n",
       "0   abandon     -2\n",
       "3    abduct     -2\n",
       "6     abhor     -3\n",
       "8    abhorr     -3\n",
       "10     abil      2"
      ]
     },
     "execution_count": 8,
     "metadata": {},
     "output_type": "execute_result"
    }
   ],
   "source": [
    "# Read dictionary, stem and remove duplicates\n",
    "myd = pd.read_csv('dict.txt',sep='\\t',header=None)\n",
    "myd.columns = ['word', 'score']\n",
    "stemmer = nltk.stem.porter.PorterStemmer()\n",
    "myd['word'] = myd['word'].apply(stemmer.stem)\n",
    "myd = myd.drop_duplicates()\n",
    "myd.head()"
   ]
  },
  {
   "cell_type": "code",
   "execution_count": 9,
   "metadata": {
    "collapsed": false
   },
   "outputs": [],
   "source": [
    "# get terms which are in our dictionary\n",
    "words_in_dic = [word for word in unique if word in set(myd['word'])]\n",
    "# get s_d = sum of tf-idf*word_score for all documents\n",
    "tf_idf_dv_select = pd.DataFrame(tf_idf_dv[words_in_dic])\n",
    "for i in range(tf_idf_dv_select.shape[1]):\n",
    "    tf_idf_dv_select.iloc[:,i] *= myd.loc[myd['word'] == tf_idf_dv_select.columns[i], 'score'].values[0]"
   ]
  },
  {
   "cell_type": "code",
   "execution_count": 10,
   "metadata": {
    "collapsed": false,
    "scrolled": true
   },
   "outputs": [
    {
     "data": {
      "text/html": [
       "<div>\n",
       "<table border=\"1\" class=\"dataframe\">\n",
       "  <thead>\n",
       "    <tr style=\"text-align: right;\">\n",
       "      <th></th>\n",
       "      <th>score</th>\n",
       "      <th>meta_president</th>\n",
       "      <th>meta_year</th>\n",
       "    </tr>\n",
       "  </thead>\n",
       "  <tbody>\n",
       "    <tr>\n",
       "      <th>0</th>\n",
       "      <td>0.000000</td>\n",
       "      <td>Washington</td>\n",
       "      <td>1790</td>\n",
       "    </tr>\n",
       "    <tr>\n",
       "      <th>1</th>\n",
       "      <td>91.595616</td>\n",
       "      <td>Washington</td>\n",
       "      <td>1790</td>\n",
       "    </tr>\n",
       "    <tr>\n",
       "      <th>2</th>\n",
       "      <td>82.338856</td>\n",
       "      <td>Washington</td>\n",
       "      <td>1790</td>\n",
       "    </tr>\n",
       "    <tr>\n",
       "      <th>3</th>\n",
       "      <td>10.161844</td>\n",
       "      <td>Washington</td>\n",
       "      <td>1790</td>\n",
       "    </tr>\n",
       "    <tr>\n",
       "      <th>4</th>\n",
       "      <td>13.174980</td>\n",
       "      <td>Washington</td>\n",
       "      <td>1790</td>\n",
       "    </tr>\n",
       "  </tbody>\n",
       "</table>\n",
       "</div>"
      ],
      "text/plain": [
       "       score meta_president  meta_year\n",
       "0   0.000000     Washington       1790\n",
       "1  91.595616     Washington       1790\n",
       "2  82.338856     Washington       1790\n",
       "3  10.161844     Washington       1790\n",
       "4  13.174980     Washington       1790"
      ]
     },
     "execution_count": 10,
     "metadata": {},
     "output_type": "execute_result"
    }
   ],
   "source": [
    "# Sum all the rows of the matrix to get scores for each document\n",
    "tfidf_wt_results = pd.DataFrame(tf_idf_dv_select.sum(axis=1, numeric_only=True), columns = ['score'])\n",
    "tfidf_wt_results['meta_president'] = data['president']\n",
    "tfidf_wt_results['meta_year'] = data['year']\n",
    "tfidf_wt_results.head()"
   ]
  },
  {
   "cell_type": "code",
   "execution_count": 11,
   "metadata": {
    "collapsed": false
   },
   "outputs": [
    {
     "data": {
      "text/html": [
       "<div>\n",
       "<table border=\"1\" class=\"dataframe\">\n",
       "  <thead>\n",
       "    <tr style=\"text-align: right;\">\n",
       "      <th></th>\n",
       "      <th>score</th>\n",
       "      <th>meta_president</th>\n",
       "      <th>meta_year</th>\n",
       "    </tr>\n",
       "  </thead>\n",
       "  <tbody>\n",
       "    <tr>\n",
       "      <th>0</th>\n",
       "      <td>0</td>\n",
       "      <td>Washington</td>\n",
       "      <td>1790</td>\n",
       "    </tr>\n",
       "    <tr>\n",
       "      <th>1</th>\n",
       "      <td>29</td>\n",
       "      <td>Washington</td>\n",
       "      <td>1790</td>\n",
       "    </tr>\n",
       "    <tr>\n",
       "      <th>2</th>\n",
       "      <td>21</td>\n",
       "      <td>Washington</td>\n",
       "      <td>1790</td>\n",
       "    </tr>\n",
       "    <tr>\n",
       "      <th>3</th>\n",
       "      <td>3</td>\n",
       "      <td>Washington</td>\n",
       "      <td>1790</td>\n",
       "    </tr>\n",
       "    <tr>\n",
       "      <th>4</th>\n",
       "      <td>4</td>\n",
       "      <td>Washington</td>\n",
       "      <td>1790</td>\n",
       "    </tr>\n",
       "  </tbody>\n",
       "</table>\n",
       "</div>"
      ],
      "text/plain": [
       "   score meta_president  meta_year\n",
       "0      0     Washington       1790\n",
       "1     29     Washington       1790\n",
       "2     21     Washington       1790\n",
       "3      3     Washington       1790\n",
       "4      4     Washington       1790"
      ]
     },
     "execution_count": 11,
     "metadata": {},
     "output_type": "execute_result"
    }
   ],
   "source": [
    "# Repeat the same thing for document term matrix\n",
    "\n",
    "dt_matrix_select = pd.DataFrame(dt_matrix[words_in_dic])\n",
    "for i in range(dt_matrix_select.shape[1]):\n",
    "    wdscore = myd.loc[myd['word'] == dt_matrix_select.columns[i], 'score'].values[0]\n",
    "    dt_matrix_select.iloc[:,i] *= wdscore\n",
    "\n",
    "# Sum all the rows of the matrix to get scores for each document\n",
    "dtmatrix_results = pd.DataFrame(dt_matrix_select.sum(axis=1, numeric_only=True), columns=['score'])\n",
    "dtmatrix_results['meta_president'] = data['president']\n",
    "dtmatrix_results['meta_year'] = data['year']\n",
    "dtmatrix_results.head()"
   ]
  },
  {
   "cell_type": "code",
   "execution_count": 12,
   "metadata": {
    "collapsed": true
   },
   "outputs": [],
   "source": [
    "import matplotlib.pyplot as plt\n",
    "% matplotlib inline\n",
    "plt.style.use('ggplot')"
   ]
  },
  {
   "cell_type": "code",
   "execution_count": 13,
   "metadata": {
    "collapsed": false
   },
   "outputs": [
    {
     "data": {
      "image/png": "[encoded data removed]",
      "text/plain": [
       "<matplotlib.figure.Figure at 0x7fc7465b3f60>"
      ]
     },
     "metadata": {},
     "output_type": "display_data"
    }
   ],
   "source": [
    "grouped = dtmatrix_results.groupby('meta_year').mean()\n",
    "plt.figure(figsize=(15,5))\n",
    "plt.plot(grouped['score'])\n",
    "grouped = tfidf_wt_results.groupby('meta_year').mean()\n",
    "plt.plot(grouped['score'])\n",
    "plt.xlabel('Year')\n",
    "plt.ylabel('score')\n",
    "plt.legend(['DT matrix', 'TF-IDF'])\n",
    "plt.title('Average document score over years: A higher score indicates a stronger positive sentiment')\n",
    "plt.show()"
   ]
  },
  {
   "cell_type": "markdown",
   "metadata": {},
   "source": [
    "## Exercise 3"
   ]
  },
  {
   "cell_type": "code",
   "execution_count": 71,
   "metadata": {
    "collapsed": false
   },
   "outputs": [],
   "source": [
    "# Compute SVD of tf-idf matrix\n",
    "\n",
    "A, S, Bt =  np.linalg.svd(tf_idf_dv)"
   ]
  },
  {
   "cell_type": "code",
   "execution_count": null,
   "metadata": {
    "collapsed": false
   },
   "outputs": [],
   "source": [
    "n_sing = len(S)\n",
    "newS = S.copy()\n",
    "newS = newS[:200]\n",
    "newS = np.append(newS, np.zeros(n_sing-200))\n",
    "sig_k = np.append(np.diag(newS),np.zeros(shape = [A.shape[0] - n_sing, n_sing]), axis=0)\n",
    "S_hat = np.matmul(np.matmul(A,sig_k),Bt)"
   ]
  },
  {
   "cell_type": "code",
   "execution_count": 52,
   "metadata": {
    "collapsed": false
   },
   "outputs": [],
   "source": [
    "n_sing = A.shape[0]\n",
    "newS = S.copy()\n",
    "newS = newS[:200]\n",
    "newS = np.append(newS, np.zeros(n_sing-200))"
   ]
  },
  {
   "cell_type": "code",
   "execution_count": null,
   "metadata": {
    "collapsed": false
   },
   "outputs": [],
   "source": [
    "presidents = pd.read_csv(\"Dem_Rep.csv\")\n",
    "dfshat = pd.DataFrame(S_hat)\n",
    "dfshat['president'] = data['president']\n",
    "dfshat = pd.merge(dfshat,presidents, on = 'president')"
   ]
  },
  {
   "cell_type": "markdown",
   "metadata": {},
   "source": [
    "#### Get cosine similarity for S and $\\hat{S}$"
   ]
  },
  {
   "cell_type": "code",
   "execution_count": 47,
   "metadata": {
    "collapsed": true
   },
   "outputs": [],
   "source": [
    "from sklearn.metrics.pairwise import cosine_similarity\n",
    "co_Shat = cosine_similarity(S_hat)"
   ]
  },
  {
   "cell_type": "code",
   "execution_count": 49,
   "metadata": {
    "collapsed": false
   },
   "outputs": [],
   "source": [
    "co_S = cosine_similarity(tf_idf_dv)"
   ]
  },
  {
   "cell_type": "markdown",
   "metadata": {
    "collapsed": true
   },
   "source": [
    "## Exercise 4"
   ]
  },
  {
   "cell_type": "code",
   "execution_count": 29,
   "metadata": {
    "collapsed": false
   },
   "outputs": [
    {
     "name": "stderr",
     "output_type": "stream",
     "text": [
      "/home/lohia/cml/cml-venv/lib/python3.5/site-packages/ipykernel/__main__.py:24: RuntimeWarning: invalid value encountered in true_divide\n"
     ]
    }
   ],
   "source": [
    "# Initialise variables of the EM algorithm\n",
    "k = 2 # number of topics\n",
    "D = dt_matrix.shape[0] # number of documents\n",
    "V = dt_matrix.shape[1] # number of words\n",
    "rhos = np.full(k,1/float(k)) # uniform distribution accross topics\n",
    "betas = np.random.dirichlet(V*[1], k) # probability matrix where the words v appears in topic k\n",
    "ll_history = [] # array to store all log-likelihood values\n",
    "\n",
    "\n",
    "tolerance=0.001\n",
    "max_iter = 50\n",
    "count = 0\n",
    "while True:\n",
    "    # E-step\n",
    "    ## Log-likelihood\n",
    "    dt = np.zeros(shape=(D,k))\n",
    "    for doc in range(D):\n",
    "        for topic in range(k):\n",
    "            dt[doc,topic] = np.log(rhos[topic]) + (dt_matrix.values[doc]*np.log(betas[topic])).sum()\n",
    "    Z_hat = dt - np.max(dt,1)[:,np.newaxis]\n",
    "    ll = np.log(np.exp(Z_hat).sum(1)).sum()+dt.max(1).sum()\n",
    "\n",
    "    ### normalize the Zs\n",
    "    probs = np.exp(dt)/np.exp(dt).sum(1)[:,np.newaxis]\n",
    "    ll_history.append(ll)\n",
    "\n",
    "    # M-step\n",
    "    rhos = probs.sum(0)/D\n",
    "    betas_temp = np.dot(probs.T, dt_matrix.values)\n",
    "    betas = betas_temp/betas_temp.sum(1)[:,np.newaxis]\n",
    "\n",
    "    if (count > 1):\n",
    "        if (ll-ll_history[-2])<tolerance:\n",
    "            break\n",
    "        if (count>max_iter):\n",
    "            break\n",
    "    count+=1"
   ]
  },
  {
   "cell_type": "markdown",
   "metadata": {},
   "source": [
    "Extremely small values are encountered in the E-step which mkae it impossible to calculate the updated values for the $\\rho$'s. We are not able to figure out how to circumvent this problem. Probably using a different data structure for a sparse matrix will help."
   ]
  },
  {
   "cell_type": "code",
   "execution_count": 30,
   "metadata": {
    "collapsed": false
   },
   "outputs": [
    {
     "data": {
      "text/plain": [
       "array([ nan,  nan])"
      ]
     },
     "execution_count": 30,
     "metadata": {},
     "output_type": "execute_result"
    }
   ],
   "source": [
    "rhos"
   ]
  },
  {
   "cell_type": "code",
   "execution_count": null,
   "metadata": {
    "collapsed": true
   },
   "outputs": [],
   "source": []
  }
 ],
 "metadata": {
  "anaconda-cloud": {},
  "kernelspec": {
   "display_name": "Python 3",
   "language": "python",
   "name": "python3"
  },
  "language_info": {
   "codemirror_mode": {
    "name": "ipython",
    "version": 3
   },
   "file_extension": ".py",
   "mimetype": "text/x-python",
   "name": "python",
   "nbconvert_exporter": "python",
   "pygments_lexer": "ipython3",
   "version": "3.5.2"
  }
 },
 "nbformat": 4,
 "nbformat_minor": 1
}
