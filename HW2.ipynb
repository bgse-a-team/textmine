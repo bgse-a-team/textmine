{
 "cells": [
  {
   "cell_type": "markdown",
   "metadata": {},
   "source": [
    "# Homework 2"
   ]
  },
  {
   "cell_type": "code",
   "execution_count": 70,
   "metadata": {
    "collapsed": true
   },
   "outputs": [],
   "source": [
    "# Import needed packages\n",
    "\n",
    "import numpy as np\n",
    "import pandas as pd\n",
    "import nltk\n",
    "import re\n",
    "import matplotlib.pyplot as plt\n",
    "from tqdm import tqdm\n",
    "from collections import Counter\n",
    "import scipy\n",
    "import pickle\n",
    "import lda\n",
    "from sklearn.metrics import roc_auc_score\n",
    "%matplotlib inline"
   ]
  },
  {
   "cell_type": "code",
   "execution_count": 2,
   "metadata": {},
   "outputs": [
    {
     "name": "stdout",
     "output_type": "stream",
     "text": [
      "(23155, 3)\n"
     ]
    },
    {
     "data": {
      "text/html": [
       "<div>\n",
       "<style>\n",
       "    .dataframe thead tr:only-child th {\n",
       "        text-align: right;\n",
       "    }\n",
       "\n",
       "    .dataframe thead th {\n",
       "        text-align: left;\n",
       "    }\n",
       "\n",
       "    .dataframe tbody tr th {\n",
       "        vertical-align: top;\n",
       "    }\n",
       "</style>\n",
       "<table border=\"1\" class=\"dataframe\">\n",
       "  <thead>\n",
       "    <tr style=\"text-align: right;\">\n",
       "      <th></th>\n",
       "      <th>president</th>\n",
       "      <th>speech</th>\n",
       "      <th>year</th>\n",
       "    </tr>\n",
       "  </thead>\n",
       "  <tbody>\n",
       "    <tr>\n",
       "      <th>0</th>\n",
       "      <td>Washington</td>\n",
       "      <td>Fellow-Citizens of the Senate and House of Rep...</td>\n",
       "      <td>1790</td>\n",
       "    </tr>\n",
       "    <tr>\n",
       "      <th>1</th>\n",
       "      <td>Washington</td>\n",
       "      <td>I embrace with great satisfaction the opportun...</td>\n",
       "      <td>1790</td>\n",
       "    </tr>\n",
       "    <tr>\n",
       "      <th>2</th>\n",
       "      <td>Washington</td>\n",
       "      <td>In resuming your consultations for the general...</td>\n",
       "      <td>1790</td>\n",
       "    </tr>\n",
       "    <tr>\n",
       "      <th>3</th>\n",
       "      <td>Washington</td>\n",
       "      <td>Among the many interesting objects which will ...</td>\n",
       "      <td>1790</td>\n",
       "    </tr>\n",
       "    <tr>\n",
       "      <th>4</th>\n",
       "      <td>Washington</td>\n",
       "      <td>A free people ought not only to be armed, but ...</td>\n",
       "      <td>1790</td>\n",
       "    </tr>\n",
       "  </tbody>\n",
       "</table>\n",
       "</div>"
      ],
      "text/plain": [
       "    president                                             speech  year\n",
       "0  Washington  Fellow-Citizens of the Senate and House of Rep...  1790\n",
       "1  Washington  I embrace with great satisfaction the opportun...  1790\n",
       "2  Washington  In resuming your consultations for the general...  1790\n",
       "3  Washington  Among the many interesting objects which will ...  1790\n",
       "4  Washington  A free people ought not only to be armed, but ...  1790"
      ]
     },
     "execution_count": 2,
     "metadata": {},
     "output_type": "execute_result"
    }
   ],
   "source": [
    "# Read data set\n",
    "\n",
    "data = pd.read_table(\"speech_data_extend.txt\",encoding=\"utf-8\")\n",
    "print(data.shape)\n",
    "data.head()"
   ]
  },
  {
   "cell_type": "code",
   "execution_count": 3,
   "metadata": {
    "collapsed": true
   },
   "outputs": [],
   "source": [
    "import topicmodels"
   ]
  },
  {
   "cell_type": "code",
   "execution_count": 4,
   "metadata": {},
   "outputs": [
    {
     "data": {
      "text/plain": [
       "9488"
      ]
     },
     "execution_count": 4,
     "metadata": {},
     "output_type": "execute_result"
    }
   ],
   "source": [
    "data = data[data.year >= 1947]\n",
    "len(data) # The number of documents (paragraphs of State of the Union Addresses) in the dataset"
   ]
  },
  {
   "cell_type": "code",
   "execution_count": 5,
   "metadata": {
    "collapsed": true
   },
   "outputs": [],
   "source": [
    "docsobj = topicmodels.RawDocs(data.speech, \"long\")"
   ]
  },
  {
   "cell_type": "code",
   "execution_count": 6,
   "metadata": {},
   "outputs": [
    {
     "name": "stdout",
     "output_type": "stream",
     "text": [
      "I come also to welcome you as you take up your duties and to discuss with you the manner in which you and I should fulfill our obligations to the American people during the next 2 years. \n",
      "['i', 'come', 'also', 'to', 'welcome', 'you', 'as', 'you', 'take', 'up', 'your', 'duties', 'and', 'to', 'discuss', 'with', 'you', 'the', 'manner', 'in', 'which', 'you', 'and', 'i', 'should', 'fulfill', 'our', 'obligations', 'to', 'the', 'american', 'people', 'during', 'the', 'next', '2', 'years', '.']\n"
     ]
    }
   ],
   "source": [
    "print(data.speech.values[3]) # fourth paragraph (note that Python uses 0-indexing)\n",
    "print(docsobj.tokens[3])"
   ]
  },
  {
   "cell_type": "code",
   "execution_count": 7,
   "metadata": {
    "collapsed": true
   },
   "outputs": [],
   "source": [
    "docsobj.token_clean(1)"
   ]
  },
  {
   "cell_type": "code",
   "execution_count": 8,
   "metadata": {},
   "outputs": [
    {
     "name": "stdout",
     "output_type": "stream",
     "text": [
      "['come', 'also', 'to', 'welcome', 'you', 'as', 'you', 'take', 'up', 'your', 'duties', 'and', 'to', 'discuss', 'with', 'you', 'the', 'manner', 'in', 'which', 'you', 'and', 'should', 'fulfill', 'our', 'obligations', 'to', 'the', 'american', 'people', 'during', 'the', 'next', 'years']\n"
     ]
    }
   ],
   "source": [
    "print(docsobj.tokens[3])"
   ]
  },
  {
   "cell_type": "code",
   "execution_count": 9,
   "metadata": {},
   "outputs": [
    {
     "name": "stdout",
     "output_type": "stream",
     "text": [
      "['come', 'welcome', 'duties', 'discuss', 'manner', 'fulfill', 'obligations', 'american', 'people', 'next', 'years']\n"
     ]
    }
   ],
   "source": [
    "docsobj.stopword_remove(\"tokens\")\n",
    "print(docsobj.tokens[3])"
   ]
  },
  {
   "cell_type": "code",
   "execution_count": 10,
   "metadata": {},
   "outputs": [
    {
     "name": "stdout",
     "output_type": "stream",
     "text": [
      "['come', 'welcom', 'duti', 'discuss', 'manner', 'fulfil', 'oblig', 'american', 'peopl', 'next', 'year']\n"
     ]
    }
   ],
   "source": [
    "docsobj.stem()\n",
    "print(docsobj.stems[3])\n",
    "docsobj.stopword_remove(\"stems\")"
   ]
  },
  {
   "cell_type": "code",
   "execution_count": 11,
   "metadata": {},
   "outputs": [],
   "source": [
    "docsobj.term_rank(\"stems\")"
   ]
  },
  {
   "cell_type": "code",
   "execution_count": 12,
   "metadata": {},
   "outputs": [
    {
     "data": {
      "text/plain": [
       "[<matplotlib.lines.Line2D at 0x7f0c4e5f6278>]"
      ]
     },
     "execution_count": 12,
     "metadata": {},
     "output_type": "execute_result"
    },
    {
     "data": {
      "image/png": "[encoded data removed]",
      "text/plain": [
       "<matplotlib.figure.Figure at 0x7f0c4f981be0>"
      ]
     },
     "metadata": {},
     "output_type": "display_data"
    }
   ],
   "source": [
    "plt.plot([x[1] for x in docsobj.tfidf_ranking])"
   ]
  },
  {
   "cell_type": "code",
   "execution_count": 13,
   "metadata": {},
   "outputs": [
    {
     "name": "stdout",
     "output_type": "stream",
     "text": [
      "number of unique stems = 4742\n",
      "number of total stems = 250000\n"
     ]
    }
   ],
   "source": [
    "docsobj.rank_remove(\"tfidf\",\"stems\",docsobj.tfidf_ranking[5000][1])\n",
    "all_stems = [s for d in docsobj.stems for s in d]\n",
    "print(\"number of unique stems = %d\" % len(set(all_stems)))\n",
    "print(\"number of total stems = %d\" % len(all_stems))"
   ]
  },
  {
   "cell_type": "code",
   "execution_count": 14,
   "metadata": {},
   "outputs": [
    {
     "data": {
      "text/plain": [
       "9488"
      ]
     },
     "execution_count": 14,
     "metadata": {},
     "output_type": "execute_result"
    }
   ],
   "source": [
    "len(docsobj.stems)"
   ]
  },
  {
   "cell_type": "code",
   "execution_count": 15,
   "metadata": {},
   "outputs": [
    {
     "data": {
      "text/plain": [
       "8"
      ]
     },
     "execution_count": 15,
     "metadata": {},
     "output_type": "execute_result"
    }
   ],
   "source": [
    "len(docsobj.stems[0])"
   ]
  },
  {
   "cell_type": "code",
   "execution_count": 16,
   "metadata": {
    "collapsed": true
   },
   "outputs": [],
   "source": [
    "all_stems = list(set(all_stems))\n",
    "corp_stems = [stem for doc in docsobj.stems for stem in doc]\n",
    "all_stems_dict = dict(zip(all_stems,range(len(all_stems))))"
   ]
  },
  {
   "cell_type": "code",
   "execution_count": 17,
   "metadata": {
    "collapsed": true
   },
   "outputs": [],
   "source": [
    "Nd = len(corp_stems)"
   ]
  },
  {
   "cell_type": "code",
   "execution_count": 18,
   "metadata": {},
   "outputs": [],
   "source": [
    "all_stems_dict\n",
    "D = len(docsobj.stems)"
   ]
  },
  {
   "cell_type": "markdown",
   "metadata": {},
   "source": [
    "# Uncollapsed Gibbs sampler"
   ]
  },
  {
   "cell_type": "code",
   "execution_count": 19,
   "metadata": {
    "collapsed": true
   },
   "outputs": [],
   "source": [
    "def perp(thetas,betas,countsmat,docsobj,all_stems_dict,D,Nd):\n",
    "    s1 = 0\n",
    "    ltb = np.log(np.dot(thetas,betas))\n",
    "    for d in range(D):\n",
    "        s2 = 0\n",
    "        #counts = Counter(docsobj.stems[d])\n",
    "        for v in set(docsobj.stems[d]):\n",
    "            s2 += ((countsmat[d][v]) * ltb[d,all_stems_dict[v]])\n",
    "            #s2 += (counts[v] * ltb[d,all_stems_dict[v]])\n",
    "        s1 += s2\n",
    "    num = -1 * s1\n",
    "    den = Nd\n",
    "    return(np.exp(num/den))"
   ]
  },
  {
   "cell_type": "code",
   "execution_count": 20,
   "metadata": {},
   "outputs": [
    {
     "name": "stderr",
     "output_type": "stream",
     "text": [
      "100%|██████████| 200/200 [15:11<00:00,  4.49s/it]\n"
     ]
    }
   ],
   "source": [
    "K = 10\n",
    "D = len(docsobj.stems)\n",
    "V = len(all_stems)\n",
    "\n",
    "# Initialise params\n",
    "\n",
    "eta = 200/V\n",
    "alpha = 50/K\n",
    "\n",
    "# Initialise betas and thetas\n",
    "betas = np.random.dirichlet(alpha = [eta]*V, size = K)\n",
    "thetas = np.random.dirichlet(alpha = [alpha]*K, size = D)\n",
    "\n",
    "perplexity = []\n",
    "countsmat = [Counter(doc) for doc in docsobj.stems]\n",
    "\n",
    "burnin = 200\n",
    "# Run iterations\n",
    "for l in tqdm(range(burnin)):\n",
    "    den = thetas.dot(betas)\n",
    "    Z = []\n",
    "    for d,doc in enumerate(docsobj.stems):\n",
    "        z_d = [np.argmax(np.random.multinomial(n=1, size=1, pvals=((thetas[d,:].dot(np.diag(betas[:,all_stems_dict[stem]]))/den[d,all_stems_dict[stem]]).tolist()))) for stem in doc]\n",
    "        Z.append(z_d)\n",
    "        \n",
    "    thetas = np.zeros(shape=(D,K))\n",
    "    N = np.zeros(shape=(D,K))\n",
    "    for i in range(D):\n",
    "        counts = Counter(Z[i])\n",
    "        N[i] = [counts[j] for j in range(K)]\n",
    "        theta = np.random.dirichlet(alpha=alpha + N[i], size=1)\n",
    "        thetas[i,:] = theta\n",
    "\n",
    "    betas = np.zeros(shape=(K,V))\n",
    "    z_s = [z for doc in Z for z in doc]\n",
    "    M = np.zeros(shape=(K,V))\n",
    "    for k in range(K):\n",
    "        stems = [corp_stems[i] for i in range(Nd) if z_s[i] == k]\n",
    "        counts = Counter(stems)\n",
    "        for stem in set(stems):\n",
    "            M[k,all_stems_dict[stem]] = counts[stem]\n",
    "        beta = np.random.dirichlet(alpha=eta + M[k], size=1)\n",
    "        betas[k,:] = beta\n",
    "    \n",
    "    if l%20 == 0:\n",
    "        perplexity.append(perp(thetas,betas,countsmat,docsobj,all_stems_dict,D,Nd))"
   ]
  },
  {
   "cell_type": "code",
   "execution_count": 21,
   "metadata": {},
   "outputs": [
    {
     "data": {
      "text/plain": [
       "[1336.016028212824,\n",
       " 1305.4309505367669,\n",
       " 1285.3356394974182,\n",
       " 1261.8332868370364,\n",
       " 1238.6579964637383,\n",
       " 1212.1753259103232,\n",
       " 1191.6357751252826,\n",
       " 1177.903194602289,\n",
       " 1166.5075571946554,\n",
       " 1154.1395793416207]"
      ]
     },
     "execution_count": 21,
     "metadata": {},
     "output_type": "execute_result"
    }
   ],
   "source": [
    "perplexity"
   ]
  },
  {
   "cell_type": "code",
   "execution_count": 22,
   "metadata": {},
   "outputs": [
    {
     "name": "stderr",
     "output_type": "stream",
     "text": [
      "100%|██████████| 500/500 [38:05<00:00,  4.46s/it]\n"
     ]
    }
   ],
   "source": [
    "m = 5\n",
    "n_samples = 100\n",
    "labels = []\n",
    "perplexity_pb = [] #perplexity post burn in\n",
    "for l in tqdm(range(m*n_samples)):\n",
    "    den = thetas.dot(betas)\n",
    "    Z = []\n",
    "    for d,doc in enumerate(docsobj.stems):\n",
    "        z_d = [np.argmax(np.random.multinomial(n=1, size=1, pvals=((thetas[d,:].dot(np.diag(betas[:,all_stems_dict[stem]]))/den[d,all_stems_dict[stem]]).tolist()))) for stem in doc]\n",
    "        Z.append(z_d)\n",
    "        \n",
    "    thetas = np.zeros(shape=(D,K))\n",
    "    N = np.zeros(shape=(D,K))\n",
    "    for i in range(D):\n",
    "        counts = Counter(Z[i])\n",
    "        N[i] = [counts[j] for j in range(K)]\n",
    "        theta = np.random.dirichlet(alpha=alpha + N[i], size=1)\n",
    "        thetas[i,:] = theta\n",
    "\n",
    "    betas = np.zeros(shape=(K,V))\n",
    "    z_s = [z for doc in Z for z in doc]\n",
    "    M = np.zeros(shape=(K,V))\n",
    "    for k in range(K):\n",
    "        stems = [corp_stems[i] for i in range(Nd) if z_s[i] == k]\n",
    "        counts = Counter(stems)\n",
    "        for stem in set(stems):\n",
    "            M[k,all_stems_dict[stem]] = counts[stem]\n",
    "        beta = np.random.dirichlet(alpha=eta + M[k], size=1)\n",
    "        betas[k,:] = beta\n",
    "    \n",
    "    if l%20 == 0:\n",
    "        perplexity_pb.append(perp(thetas,betas,countsmat,docsobj,all_stems_dict,D,Nd))\n",
    "    if l%m == 0:\n",
    "        #Z_s = [i for sublist in Z for i in sublist]\n",
    "        #j = np.int(i/m)\n",
    "        labels.append(Z)"
   ]
  },
  {
   "cell_type": "raw",
   "metadata": {
    "collapsed": true
   },
   "source": [
    "s1 = 0\n",
    "ltb = np.log(np.dot(theta_hat,beta_hat))\n",
    "for d in tqdm(range(D)):\n",
    "    s2 = 0\n",
    "    counts = Counter(docsobj.stems[d])\n",
    "    for v in set(docsobj.stems[d]):\n",
    "        s2 = s2 + (counts[v] * ltb[d,all_stems_dict[v]])\n",
    "    s1 = s1 + s2\n",
    "num = -1 * s1\n",
    "den = Nd\n",
    "perplex = np.exp(num/den)"
   ]
  },
  {
   "cell_type": "markdown",
   "metadata": {},
   "source": [
    "## Exercise 2 - Collapsed Gibbs sampling"
   ]
  },
  {
   "cell_type": "code",
   "execution_count": 26,
   "metadata": {},
   "outputs": [],
   "source": [
    "#ldaobj = topicmodels.LDA.LDAGibbs(docsobj.stems,10)\n",
    "#ldaobj.sample(0,5,100)\n",
    "#perp_coll = ldaobj.perplexity.tolist()\n",
    "\n",
    "# Done locally and reading from pickle\n",
    "with open(\"perp_values.txt\", \"rb\") as fp:   # Unpickling\n",
    "    perp_coll = pickle.load(fp)"
   ]
  },
  {
   "cell_type": "code",
   "execution_count": 27,
   "metadata": {
    "collapsed": true
   },
   "outputs": [],
   "source": [
    "perp_uncoll = perplexity + perplexity_pb"
   ]
  },
  {
   "cell_type": "code",
   "execution_count": 29,
   "metadata": {},
   "outputs": [
    {
     "data": {
      "text/plain": [
       "[1145.9582550588393,\n",
       " 1140.0075408208832,\n",
       " 1136.1620095546934,\n",
       " 1130.8840733393151,\n",
       " 1126.1619659429737,\n",
       " 1125.3222809279741,\n",
       " 1120.1367240362799,\n",
       " 1117.5880299992764,\n",
       " 1115.6602966891207,\n",
       " 1113.9469299401314,\n",
       " 1109.8496199670797,\n",
       " 1109.6886209730935,\n",
       " 1106.6981598718305,\n",
       " 1104.5330305359876,\n",
       " 1103.0905874962293,\n",
       " 1103.9394173186133,\n",
       " 1103.8548235656399,\n",
       " 1102.4366737419161,\n",
       " 1100.5079732125766,\n",
       " 1100.1581177628598,\n",
       " 1099.2055481079776,\n",
       " 1097.2098259703744,\n",
       " 1095.9387679518231,\n",
       " 1094.9546720217372,\n",
       " 1094.6513861399242]"
      ]
     },
     "execution_count": 29,
     "metadata": {},
     "output_type": "execute_result"
    }
   ],
   "source": [
    "perplexity_pb"
   ]
  },
  {
   "cell_type": "code",
   "execution_count": 28,
   "metadata": {},
   "outputs": [
    {
     "data": {
      "image/png": "[encoded data removed]",
      "text/plain": [
       "<matplotlib.figure.Figure at 0x7f0c4f9af940>"
      ]
     },
     "metadata": {},
     "output_type": "display_data"
    }
   ],
   "source": [
    "plt.plot(perp_uncoll,label = 'uncollapsed')\n",
    "plt.plot(perp_coll,label = 'collapsed')\n",
    "plt.legend()\n",
    "plt.ylabel('perplexity')\n",
    "plt.xlabel('samples')\n",
    "plt.show()"
   ]
  },
  {
   "cell_type": "markdown",
   "metadata": {},
   "source": [
    "#### We can see that the collapsed sampler stabilizes much faster as compared to the uncollapsed sampler. I take the perplexity every 20 iterations for the uncollapsed sampler"
   ]
  },
  {
   "cell_type": "markdown",
   "metadata": {},
   "source": [
    "#### Predictive theta and beta"
   ]
  },
  {
   "cell_type": "code",
   "execution_count": null,
   "metadata": {
    "collapsed": true
   },
   "outputs": [],
   "source": [
    "beta_hat = np.zeros(shape=(K,V))\n",
    "for i in tqdm(range(K)):\n",
    "    den = (M[i,:]+eta).sum()\n",
    "    for j in range(V):\n",
    "        beta_hat[i,j] = (M[i,j] + eta)/den"
   ]
  },
  {
   "cell_type": "code",
   "execution_count": null,
   "metadata": {
    "collapsed": true
   },
   "outputs": [],
   "source": [
    "theta_hat = np.zeros(shape=(D,K))\n",
    "for i in tqdm(range(D)):\n",
    "    den = (N[i,:]+alpha).sum()\n",
    "    for j in range(K):\n",
    "        theta_hat[i,j] = (N[i,j] + alpha)/den"
   ]
  },
  {
   "cell_type": "markdown",
   "metadata": {},
   "source": [
    "## Question 3"
   ]
  },
  {
   "cell_type": "code",
   "execution_count": 31,
   "metadata": {},
   "outputs": [],
   "source": [
    "from sklearn.linear_model import LogisticRegressionCV\n",
    "from sklearn.model_selection import train_test_split\n",
    "#from sklearn.model_selection import GridSearchCV\n",
    "from sklearn.metrics import classification_report\n",
    "from sklearn.feature_extraction.text import CountVectorizer"
   ]
  },
  {
   "cell_type": "code",
   "execution_count": 33,
   "metadata": {
    "collapsed": true
   },
   "outputs": [],
   "source": [
    "# Create a new variable with only presidents and years\n",
    "parties = data.loc[:,['president', 'year']]\n",
    "parties = parties.reset_index()\n",
    "# Create a new variable with 1 when presidents are Democrats, 0 when they are Republicans\n",
    "zero_len = pd.Series(np.zeros(len(parties.index)))\n",
    "parties['parties'] = zero_len\n",
    "parties['parties'] = (parties.president == \"Truman\") | (parties.president == \"Kennedy\") | (parties.president == \"Johnson\") | (parties.president == \"Carter\") | (parties.president == \"Clinton\") | (parties.president == \"Obama\")\n",
    "parties.parties = list(map(lambda x: 1 if x else 0, parties.parties))\n",
    "parties = parties.iloc[:][parties.year >= 1947]\n",
    "# Set the parties variable as y\n",
    "y = parties.parties"
   ]
  },
  {
   "cell_type": "code",
   "execution_count": 73,
   "metadata": {},
   "outputs": [
    {
     "name": "stdout",
     "output_type": "stream",
     "text": [
      "Accuracy: 0.6761503336845802\n",
      "             precision    recall  f1-score   support\n",
      "\n",
      "          0       0.66      0.74      0.70      1444\n",
      "          1       0.69      0.61      0.65      1403\n",
      "\n",
      "avg / total       0.68      0.68      0.67      2847\n",
      "\n",
      "Tuned Model Parameters: [ 0.35938137]\n",
      "AUC score when using document-term matrix: 0.7399974431520899\n"
     ]
    },
    {
     "name": "stderr",
     "output_type": "stream",
     "text": [
      "INFO:lda:n_documents: 9488\n",
      "INFO:lda:vocab_size: 4742\n",
      "INFO:lda:n_words: 250000\n",
      "INFO:lda:n_topics: 10\n",
      "INFO:lda:n_iter: 1000\n",
      "WARNING:lda:all zero row in document-term matrix found\n",
      "INFO:lda:<0> log likelihood: -2661826\n",
      "INFO:lda:<10> log likelihood: -2077618\n",
      "INFO:lda:<20> log likelihood: -1987666\n",
      "INFO:lda:<30> log likelihood: -1953114\n",
      "INFO:lda:<40> log likelihood: -1931842\n",
      "INFO:lda:<50> log likelihood: -1921545\n",
      "INFO:lda:<60> log likelihood: -1915514\n",
      "INFO:lda:<70> log likelihood: -1910984\n",
      "INFO:lda:<80> log likelihood: -1906653\n",
      "INFO:lda:<90> log likelihood: -1904568\n",
      "INFO:lda:<100> log likelihood: -1903775\n",
      "INFO:lda:<110> log likelihood: -1901340\n",
      "INFO:lda:<120> log likelihood: -1900211\n",
      "INFO:lda:<130> log likelihood: -1900286\n",
      "INFO:lda:<140> log likelihood: -1898358\n",
      "INFO:lda:<150> log likelihood: -1899064\n",
      "INFO:lda:<160> log likelihood: -1898420\n",
      "INFO:lda:<170> log likelihood: -1898299\n",
      "INFO:lda:<180> log likelihood: -1898357\n",
      "INFO:lda:<190> log likelihood: -1896960\n",
      "INFO:lda:<200> log likelihood: -1896936\n",
      "INFO:lda:<210> log likelihood: -1896832\n",
      "INFO:lda:<220> log likelihood: -1896101\n",
      "INFO:lda:<230> log likelihood: -1896264\n",
      "INFO:lda:<240> log likelihood: -1896902\n",
      "INFO:lda:<250> log likelihood: -1895331\n",
      "INFO:lda:<260> log likelihood: -1896191\n",
      "INFO:lda:<270> log likelihood: -1896194\n",
      "INFO:lda:<280> log likelihood: -1895482\n",
      "INFO:lda:<290> log likelihood: -1895822\n",
      "INFO:lda:<300> log likelihood: -1895494\n",
      "INFO:lda:<310> log likelihood: -1895735\n",
      "INFO:lda:<320> log likelihood: -1895354\n",
      "INFO:lda:<330> log likelihood: -1895662\n",
      "INFO:lda:<340> log likelihood: -1895981\n",
      "INFO:lda:<350> log likelihood: -1895578\n",
      "INFO:lda:<360> log likelihood: -1895446\n",
      "INFO:lda:<370> log likelihood: -1896001\n",
      "INFO:lda:<380> log likelihood: -1895157\n",
      "INFO:lda:<390> log likelihood: -1895382\n",
      "INFO:lda:<400> log likelihood: -1895830\n",
      "INFO:lda:<410> log likelihood: -1894915\n",
      "INFO:lda:<420> log likelihood: -1895231\n",
      "INFO:lda:<430> log likelihood: -1895467\n",
      "INFO:lda:<440> log likelihood: -1895541\n",
      "INFO:lda:<450> log likelihood: -1895082\n",
      "INFO:lda:<460> log likelihood: -1893754\n",
      "INFO:lda:<470> log likelihood: -1895273\n",
      "INFO:lda:<480> log likelihood: -1894879\n",
      "INFO:lda:<490> log likelihood: -1895589\n",
      "INFO:lda:<500> log likelihood: -1894444\n",
      "INFO:lda:<510> log likelihood: -1895085\n",
      "INFO:lda:<520> log likelihood: -1894216\n",
      "INFO:lda:<530> log likelihood: -1895415\n",
      "INFO:lda:<540> log likelihood: -1894355\n",
      "INFO:lda:<550> log likelihood: -1895692\n",
      "INFO:lda:<560> log likelihood: -1895247\n",
      "INFO:lda:<570> log likelihood: -1895446\n",
      "INFO:lda:<580> log likelihood: -1895182\n",
      "INFO:lda:<590> log likelihood: -1895582\n",
      "INFO:lda:<600> log likelihood: -1895114\n",
      "INFO:lda:<610> log likelihood: -1895666\n",
      "INFO:lda:<620> log likelihood: -1895888\n",
      "INFO:lda:<630> log likelihood: -1895216\n",
      "INFO:lda:<640> log likelihood: -1894604\n",
      "INFO:lda:<650> log likelihood: -1894898\n",
      "INFO:lda:<660> log likelihood: -1896388\n",
      "INFO:lda:<670> log likelihood: -1895314\n",
      "INFO:lda:<680> log likelihood: -1896231\n",
      "INFO:lda:<690> log likelihood: -1894641\n",
      "INFO:lda:<700> log likelihood: -1895369\n",
      "INFO:lda:<710> log likelihood: -1895893\n",
      "INFO:lda:<720> log likelihood: -1895072\n",
      "INFO:lda:<730> log likelihood: -1894962\n",
      "INFO:lda:<740> log likelihood: -1895376\n",
      "INFO:lda:<750> log likelihood: -1894371\n",
      "INFO:lda:<760> log likelihood: -1895052\n",
      "INFO:lda:<770> log likelihood: -1894714\n",
      "INFO:lda:<780> log likelihood: -1895667\n",
      "INFO:lda:<790> log likelihood: -1894668\n",
      "INFO:lda:<800> log likelihood: -1895757\n",
      "INFO:lda:<810> log likelihood: -1895970\n",
      "INFO:lda:<820> log likelihood: -1895031\n",
      "INFO:lda:<830> log likelihood: -1895653\n",
      "INFO:lda:<840> log likelihood: -1895328\n",
      "INFO:lda:<850> log likelihood: -1895483\n",
      "INFO:lda:<860> log likelihood: -1894107\n",
      "INFO:lda:<870> log likelihood: -1895051\n",
      "INFO:lda:<880> log likelihood: -1894647\n",
      "INFO:lda:<890> log likelihood: -1895376\n",
      "INFO:lda:<900> log likelihood: -1894637\n",
      "INFO:lda:<910> log likelihood: -1894316\n",
      "INFO:lda:<920> log likelihood: -1894538\n",
      "INFO:lda:<930> log likelihood: -1894119\n",
      "INFO:lda:<940> log likelihood: -1892682\n",
      "INFO:lda:<950> log likelihood: -1893762\n",
      "INFO:lda:<960> log likelihood: -1893804\n",
      "INFO:lda:<970> log likelihood: -1893042\n",
      "INFO:lda:<980> log likelihood: -1892981\n",
      "INFO:lda:<990> log likelihood: -1892956\n",
      "INFO:lda:<999> log likelihood: -1893598\n"
     ]
    },
    {
     "name": "stdout",
     "output_type": "stream",
     "text": [
      "Accuracy: 0.580962416578855\n",
      "             precision    recall  f1-score   support\n",
      "\n",
      "          0       0.59      0.65      0.62      1480\n",
      "          1       0.57      0.50      0.54      1367\n",
      "\n",
      "avg / total       0.58      0.58      0.58      2847\n",
      "\n",
      "Tuned Model Parameters: [ 0.35938137]\n",
      "AUC score when using topics: 0.604546847505882\n"
     ]
    }
   ],
   "source": [
    "# Select only documents which appear after 1947 (stored in data)\n",
    "X = [' '.join(doc) for doc in docsobj.stems]\n",
    "vectorizer = CountVectorizer()\n",
    "X = vectorizer.fit_transform(X)\n",
    "vocab = vectorizer.get_feature_names()\n",
    "\n",
    "# Split the X and y variables into a training and test set\n",
    "X_train, X_test, y_train, y_test = train_test_split(X.toarray(), y, test_size = 0.3, random_state = 42)\n",
    "\n",
    "# Create the logistic regression estimator with an l1 loss parameter\n",
    "log_reg = LogisticRegressionCV(penalty = \"l1\", solver=\"liblinear\")\n",
    "\n",
    "# Fit the model, predict and report the accuracy and the best parameter\n",
    "log_reg.fit(X_train, y_train)\n",
    "\n",
    "y_pred = log_reg.predict(X_test)\n",
    "\n",
    "print(\"Accuracy: {}\".format(log_reg.score(X_test, y_test)))\n",
    "\n",
    "print(classification_report(y_test, y_pred))\n",
    "\n",
    "print(\"Tuned Model Parameters: {}\".format(log_reg.C_))\n",
    "\n",
    "auc = roc_auc_score(y_test, log_reg.decision_function(X_test))\n",
    "print('AUC score when using document-term matrix: {}'.format(auc))\n",
    "\n",
    "## Run a logistic regression using the topics instead of the document-term matrix\n",
    "X = [' '.join(doc) for doc in docsobj.stems]\n",
    "vectorizer = CountVectorizer()\n",
    "X = vectorizer.fit_transform(X)\n",
    "\n",
    "K, S, alpha, eta = 10, 1000, 0.1, 0.01\n",
    "\n",
    "Col_Gibbs = lda.LDA(n_topics=K, n_iter=S, alpha=alpha, eta=eta)\n",
    "\n",
    "X = Col_Gibbs.fit_transform(X)\n",
    "\n",
    "# Split the X and y variables into a training and test set\n",
    "X_train, X_test, y_train, y_test = train_test_split(X, y, test_size = 0.3, random_state = 59)\n",
    "\n",
    "# Create the logistic regression estimator\n",
    "log_reg = LogisticRegressionCV(penalty=\"l2\", solver=\"newton-cg\")\n",
    "\n",
    "# Fit the model, predict and report the accuracy and the best parameter\n",
    "log_reg.fit(X_train, y_train)\n",
    "y_pred = log_reg.predict(X_test)\n",
    "print(\"Accuracy: {}\".format(log_reg.score(X_test, y_test)))\n",
    "print(classification_report(y_test, y_pred))\n",
    "print(\"Tuned Model Parameters: {}\".format(log_reg.C_))\n",
    "\n",
    "auc = roc_auc_score(y_test, log_reg.decision_function(X_test))\n",
    "print('AUC score when using topics: {}'.format(auc))"
   ]
  },
  {
   "cell_type": "markdown",
   "metadata": {},
   "source": [
    "# We can see from the AUC scores that using document-term matrix is better for prediction as compared to using the topics from LDA"
   ]
  }
 ],
 "metadata": {
  "kernelspec": {
   "display_name": "Python 3",
   "language": "python",
   "name": "python3"
  },
  "language_info": {
   "codemirror_mode": {
    "name": "ipython",
    "version": 3
   },
   "file_extension": ".py",
   "mimetype": "text/x-python",
   "name": "python",
   "nbconvert_exporter": "python",
   "pygments_lexer": "ipython3",
   "version": "3.5.2"
  }
 },
 "nbformat": 4,
 "nbformat_minor": 2
}
